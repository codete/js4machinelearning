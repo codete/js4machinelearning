{
 "cells": [
  {
   "cell_type": "markdown",
   "metadata": {},
   "source": [
    "![](images/codete_workshops.jpg)\n",
    "\n",
    "# KharkivJS\n",
    "\n",
    "During this session, we go through a few JavaScript libraries and frameworks that are used for machine learning. This notebook is divided into three sections:\n",
    "- data preparation and cleanup,\n",
    "- scikit-learn as the most popular library for machine learning,\n",
    "- building a linear regression method with tensorflow,\n",
    "- a neural network with keras."
   ]
  },
  {
   "cell_type": "markdown",
   "metadata": {},
   "source": [
    "## Environment\n",
    "\n",
    "Feel free to use docker image to setup the environment with Jupyter and nodejs kernel installed from\n",
    "[https://hub.docker.com/r/kprzystalski/jsml/](https://hub.docker.com/r/kprzystalski/jsml/). You can get the notebooks from github: [https://github.com/codete/kharkivjs](https://github.com/codete/kharkivjs).\n"
   ]
  },
  {
   "cell_type": "markdown",
   "metadata": {},
   "source": [
    "## Introduction to machine learning\n",
    "\n",
    "Before we go to the next steps, it's important to explain how machine learning works. Please take a look on the figure:\n",
    "\n",
    "![](images/machine_learning_1.png)\n",
    "\n",
    "\n",
    "\n"
   ]
  },
  {
   "cell_type": "markdown",
   "metadata": {},
   "source": [
    "## Data preparation and cleanup\n",
    "\n",
    "As we want to use machine learning, we need some data to aquire some data for the training. There are some libraries like scikit-learn that provides a few popular datasets. You can use it for learning, but for most cases you would like to load your own data. \n",
    "\n",
    "We have two types of such objects that makes the work with dataset easier: Series and DataFrame. You can think about Series as a lite version of DataFrames. It is a vector of data. DataFrames are much more complex and you can consider it as a matrix object.\n",
    "\n",
    "There are a few libraries that allow us to work with DataFrames:\n",
    "- [Pandas](https://github.com/StratoDem/pandas-js)\n",
    "- [DataFrameJS](https://www.npmjs.com/package/dataframe-js)\n",
    "- [Recline](http://okfnlabs.org/recline/)\n",
    "- [DataForgeJS](https://github.com/data-forge/data-forge-js)\n",
    "\n",
    "The most popular is pandas, it's also used in Python and is \"forked\" from Python to JavaScript. Let's  import Series and DataFrame objects from PandasJS:"
   ]
  },
  {
   "cell_type": "code",
   "execution_count": 2,
   "metadata": {},
   "outputs": [],
   "source": [
    "var Series = require('pandas-js').Series;\n",
    "var DataFrame = require('pandas-js').DataFrame;"
   ]
  },
  {
   "cell_type": "markdown",
   "metadata": {},
   "source": [
    "A series can be build as follows:"
   ]
  },
  {
   "cell_type": "code",
   "execution_count": 3,
   "metadata": {},
   "outputs": [],
   "source": [
    "var series1 = new Series([1, 2, 3, 4], {name: 'A Series', index: [2, 3, 4, 5]})"
   ]
  },
  {
   "cell_type": "markdown",
   "metadata": {},
   "source": [
    "It can be printed:"
   ]
  },
  {
   "cell_type": "code",
   "execution_count": 4,
   "metadata": {},
   "outputs": [
    {
     "data": {
      "text/plain": [
       "Series {\n",
       "  _data: [ 1, 2, 3, 4 ],\n",
       "  _axes: { '0': List [ 2, 3, 4, 5 ] },\n",
       "  _AXIS_ORDERS: List [ 0 ],\n",
       "  _values: List [ 1, 2, 3, 4 ],\n",
       "  _dtype: DType { _name: 'int' },\n",
       "  _name: 'A Series',\n",
       "  _AXIS_LEN: 1,\n",
       "  _sort_ascending: [Function: bound _sort_ascending],\n",
       "  _sort_descending: [Function: bound _sort_descending] }"
      ]
     },
     "execution_count": 4,
     "metadata": {},
     "output_type": "execute_result"
    }
   ],
   "source": [
    "series1"
   ]
  },
  {
   "cell_type": "markdown",
   "metadata": {},
   "source": [
    "Similary, we can create a new DataFrame:"
   ]
  },
  {
   "cell_type": "code",
   "execution_count": 12,
   "metadata": {},
   "outputs": [],
   "source": [
    "var dataframe1 = new DataFrame([[1,2,3],[3,4,5]], {name: 'A DataFrame', index: [6,7]})"
   ]
  },
  {
   "cell_type": "markdown",
   "metadata": {},
   "source": [
    "It can be printed in the same way as Series:"
   ]
  },
  {
   "cell_type": "code",
   "execution_count": 13,
   "metadata": {},
   "outputs": [
    {
     "data": {
      "text/plain": [
       "DataFrame {\n",
       "  _data: Map { \"0\": 6\t1\n",
       "7\t3\n",
       "Name: 0, dtype: dtype(int), \"1\": 6\t2\n",
       "7\t4\n",
       "Name: 1, dtype: dtype(int), \"2\": 6\t3\n",
       "7\t5\n",
       "Name: 2, dtype: dtype(int) },\n",
       "  _axes: { '0': List [ 6, 7 ], '1': Seq [ \"0\", \"1\", \"2\" ] },\n",
       "  _AXIS_ORDERS: List [ 0, 1 ],\n",
       "  _values: null,\n",
       "  _AXIS_LEN: 2 }"
      ]
     },
     "execution_count": 13,
     "metadata": {},
     "output_type": "execute_result"
    }
   ],
   "source": [
    "dataframe1"
   ]
  },
  {
   "cell_type": "markdown",
   "metadata": {},
   "source": [
    "As we can see, DataFrame ia a list of lists:"
   ]
  },
  {
   "cell_type": "code",
   "execution_count": 17,
   "metadata": {},
   "outputs": [
    {
     "data": {
      "text/plain": [
       "{ '0': { '6': 1, '7': 3 },\n",
       "  '1': { '6': 2, '7': 4 },\n",
       "  '2': { '6': 3, '7': 5 } }"
      ]
     },
     "execution_count": 17,
     "metadata": {},
     "output_type": "execute_result"
    }
   ],
   "source": [
    "dataframe1.to_json()"
   ]
  },
  {
   "cell_type": "code",
   "execution_count": 18,
   "metadata": {},
   "outputs": [
    {
     "data": {
      "text/plain": [
       "'\\t|  0  |  1  |  2  |\\n--------------------\\n6\\t|  1  |  2  |  3  |\\n7\\t|  3  |  4  |  5  |\\n'"
      ]
     },
     "execution_count": 18,
     "metadata": {},
     "output_type": "execute_result"
    }
   ],
   "source": [
    "dataframe1.toString()"
   ]
  },
  {
   "cell_type": "markdown",
   "metadata": {},
   "source": [
    "## Data manipulation\n",
    "\n",
    "We can easily manipulate with data in a DataFrame. There are some methods that can be used in Pandas like filtering the data. Unfortunately, the implementations of DataFrames are still a bit limited, but not all."
   ]
  },
  {
   "cell_type": "code",
   "execution_count": 40,
   "metadata": {},
   "outputs": [],
   "source": [
    "var df1 = new DataFrame([{x: 1, y: 3}, {x: 2, y: 4}, {x: 3, y: 5}]);"
   ]
  },
  {
   "cell_type": "code",
   "execution_count": 58,
   "metadata": {},
   "outputs": [
    {
     "data": {
      "text/plain": [
       "{ x: { '1': 2, '2': 3 }, y: { '1': 3, '2': 4 } }"
      ]
     },
     "execution_count": 58,
     "metadata": {},
     "output_type": "execute_result"
    }
   ],
   "source": [
    "df1.filter(df1.get('x').gt(1)).to_json()"
   ]
  },
  {
   "cell_type": "code",
   "execution_count": 42,
   "metadata": {},
   "outputs": [
    {
     "data": {
      "text/plain": [
       "DataFrame {\n",
       "  _data: Map { \"x\": 0\t1\n",
       "1\t2\n",
       "2\t3\n",
       "Name: x, dtype: dtype(int), \"y\": 0\t2\n",
       "1\t3\n",
       "2\t4\n",
       "Name: y, dtype: dtype(int) },\n",
       "  _axes: { '0': List [ 0, 1, 2 ], '1': Seq [ \"x\", \"y\" ] },\n",
       "  _AXIS_ORDERS: List [ 0, 1 ],\n",
       "  _values: null,\n",
       "  _AXIS_LEN: 2 }"
      ]
     },
     "execution_count": 42,
     "metadata": {},
     "output_type": "execute_result"
    }
   ],
   "source": [
    "df1"
   ]
  },
  {
   "cell_type": "code",
   "execution_count": 51,
   "metadata": {},
   "outputs": [
    {
     "data": {
      "text/plain": [
       "{ '0': { '7': 3 }, '1': { '7': 4 }, '2': { '7': 5 } }"
      ]
     },
     "execution_count": 51,
     "metadata": {},
     "output_type": "execute_result"
    }
   ],
   "source": [
    "dataframe1.filter(dataframe1.get('0').gt(1)).to_json()"
   ]
  },
  {
   "cell_type": "markdown",
   "metadata": {},
   "source": [
    "### Limitations\n",
    "\n",
    "There are many libraries available for DataFrames, more than in many other languages. Some are ported/cloned from Python, but many are still limited to the functionality like Pandas. It's not a clone of the original ones. The other libraries also have limitations.\n"
   ]
  },
  {
   "cell_type": "markdown",
   "metadata": {},
   "source": [
    "### Data visualization\n",
    "\n",
    "There are plenty of visualization libraries available for JavaScript. Some can be used to visualize the data from DataFrames. It is possible, because we can get the data from a DataFrame as a List of JSON. A few libraries that can be used for data visualization are:\n",
    "- [D3.js](https://d3js.org/)\n",
    "- [Recharts](https://github.com/recharts/recharts)\n",
    "- [React-vis](https://github.com/uber/react-vis)\n",
    "\n",
    "There are many many more available. This is a huge advantage of JavaScript compared to Python."
   ]
  },
  {
   "cell_type": "markdown",
   "metadata": {},
   "source": [
    "## Machine learning with Scikit-learn\n",
    "\n",
    "Scikit-learn is one of the most popular library for machine learning. It used widely almost everywhere and because of that it was ported to JavaScript, but it lacks of functionality. There are two ports of this library: jskit-learn and scikit-learn, but the first one was last time updated about **a year ago**, and the second **five years ago**.\n"
   ]
  },
  {
   "cell_type": "markdown",
   "metadata": {},
   "source": [
    "## Tensorflow\n",
    " \n",
    "First things first: tensors. Those are N-dimensional matrices (usually 2D/3D) constituting building blocks of framework's computation.\n",
    "\n",
    "![aa](images/tensorflow.png)\n",
    "\n",
    "Graph can be divided into two parts:\n",
    "ops (operations) - graph nodes, describing calculations consuming and producing tensors\n",
    "\n",
    "tensors - graph edges, represent values flowing through operations\n",
    "For it to be evaluated we need to run it inside session, which is a mechanism used for running and providing values to graph.\n",
    "\n",
    "Before it, please notice the type is inferred from the value passed to it. If we didn't specify tf.float32 it would be tf.int64 and those types are incompatible in Tensorflow.\n",
    "\n",
    "Before moving on we have to introduce other Tensor types provided by the framework:\n",
    "\n",
    "- tf.placeholder: placeholder for the value we will input later and turn into concrete value. Good analogy could be y = f(x), where x only represents some value.\n",
    "- tf.Variable: unlike tf.Constant, this tensor can change it's value during session execution. They have to be initialized (in high level APIs it is done for you)."
   ]
  },
  {
   "cell_type": "code",
   "execution_count": 1,
   "metadata": {},
   "outputs": [
    {
     "data": {
      "text/plain": [
       "{ io: \n",
       "   { NodeFileSystem: { [Function: NodeFileSystem] URL_SCHEME: 'file://' } },\n",
       "  version: '0.1.13' }"
      ]
     },
     "execution_count": 1,
     "metadata": {},
     "output_type": "execute_result"
    },
    {
     "name": "stderr",
     "output_type": "stream",
     "text": [
      "(node:24) Warning: N-API is an experimental feature and could change at any time.\n"
     ]
    }
   ],
   "source": [
    "const tf = require('@tensorflow/tfjs');\n",
    "\n",
    "require('@tensorflow/tfjs-node');"
   ]
  },
  {
   "cell_type": "markdown",
   "metadata": {},
   "source": [
    "Let's add two variable with Tensorflow:"
   ]
  },
  {
   "cell_type": "code",
   "execution_count": 2,
   "metadata": {},
   "outputs": [
    {
     "name": "stdout",
     "output_type": "stream",
     "text": [
      "Tensor\n",
      "     [[11],]\n"
     ]
    }
   ],
   "source": [
    "let var1 = tf.tensor2d([[1, 2]]);\n",
    "let var2 = tf.tensor2d([[3], [4]]);\n",
    "var1.matMul(var2).print();"
   ]
  },
  {
   "cell_type": "markdown",
   "metadata": {},
   "source": [
    "Tensorflow has a few levels of API:\n",
    "\n",
    "![](images/tf_estimator_apis.png)"
   ]
  },
  {
   "cell_type": "markdown",
   "metadata": {},
   "source": [
    "Let's imagine we have a simple linear regression to solve: $y=ax+b$. In Tensorflow it looks like following:"
   ]
  },
  {
   "cell_type": "code",
   "execution_count": 3,
   "metadata": {},
   "outputs": [],
   "source": [
    "const trainX = [1.2, 1.5, 2.4, 3.5];\n",
    "const trainY = [1.5, 1.4, 2.0, 3.1];\n",
    "\n",
    "const a = tf.variable(tf.scalar(Math.random()));\n",
    "const b = tf.variable(tf.scalar(Math.random()));"
   ]
  },
  {
   "cell_type": "markdown",
   "metadata": {},
   "source": [
    "The prediction function would be exactly the regression function:"
   ]
  },
  {
   "cell_type": "code",
   "execution_count": 4,
   "metadata": {},
   "outputs": [],
   "source": [
    "function predict(x) { \n",
    "  return tf.tidy(function() {\n",
    "    return a.mul(x).add(b);\n",
    "  });\n",
    "}"
   ]
  },
  {
   "cell_type": "markdown",
   "metadata": {},
   "source": [
    "Loss function is a function that needs to be used check how good our classifier is. "
   ]
  },
  {
   "cell_type": "code",
   "execution_count": 5,
   "metadata": {},
   "outputs": [],
   "source": [
    "function loss(prediction, actualValues) { \n",
    "   const error = prediction.sub(actualValues).square().mean(); \n",
    "   return error; \n",
    "}"
   ]
  },
  {
   "cell_type": "markdown",
   "metadata": {},
   "source": [
    "The higher the learning rate is, there faster we find the best fit, but it cannot be too high because of overfitting."
   ]
  },
  {
   "cell_type": "code",
   "execution_count": 6,
   "metadata": {},
   "outputs": [],
   "source": [
    "const learningRate = 0.01;\n",
    "const optimizer = tf.train.sgd(learningRate);"
   ]
  },
  {
   "cell_type": "markdown",
   "metadata": {},
   "source": [
    "Training is to monimize the loss function:"
   ]
  },
  {
   "cell_type": "code",
   "execution_count": 7,
   "metadata": {},
   "outputs": [],
   "source": [
    "function train() { \n",
    "  optimizer.minimize(function() { \n",
    "    const predictions = predict(tf.tensor1d(trainX)); \n",
    "    stepLoss = loss(predictions, tf.tensor1d(trainY))   \n",
    "    return stepLoss; \n",
    "  }); \n",
    "}"
   ]
  },
  {
   "cell_type": "markdown",
   "metadata": {},
   "source": [
    "Check if it works:"
   ]
  },
  {
   "cell_type": "code",
   "execution_count": 8,
   "metadata": {},
   "outputs": [],
   "source": [
    "train()"
   ]
  },
  {
   "cell_type": "markdown",
   "metadata": {},
   "source": [
    "It's time to check the prediction of our model:"
   ]
  },
  {
   "cell_type": "code",
   "execution_count": 15,
   "metadata": {},
   "outputs": [],
   "source": [
    "var predicted_value = predict([2.0])"
   ]
  },
  {
   "cell_type": "code",
   "execution_count": 16,
   "metadata": {},
   "outputs": [
    {
     "data": {
      "text/plain": [
       "2.40226149559021"
      ]
     },
     "execution_count": 16,
     "metadata": {},
     "output_type": "execute_result"
    }
   ],
   "source": [
    "predicted_value.get([0])"
   ]
  },
  {
   "cell_type": "markdown",
   "metadata": {},
   "source": [
    "## Neural networks with Keras\n",
    "\n",
    "Keras is a framework that base on protobuf and is used to build neural networks layer by layer.\n",
    "\n",
    "![](images/autoencoders.png)\n",
    "\n",
    "It loads the models that you can save using Keras in Python and use it in JavaScript. To load the data we need to save the model in Python first and load the framework as below:"
   ]
  },
  {
   "cell_type": "code",
   "execution_count": 17,
   "metadata": {},
   "outputs": [],
   "source": [
    "const KerasJS = require('keras-js')"
   ]
  },
  {
   "cell_type": "code",
   "execution_count": 26,
   "metadata": {},
   "outputs": [],
   "source": [
    "var kerasmodel = new KerasJS.Model({\n",
    "  filepath: '/home/codete/workshop/kerasmodel.bin',    \n",
    "  filesystem: true,\n",
    "  headers: {},    \n",
    "  transferLayerOutputs: false,\n",
    "  pauseAfterLayerCalls: false,\n",
    "  visualizations: []    \n",
    "})"
   ]
  },
  {
   "cell_type": "markdown",
   "metadata": {},
   "source": [
    "## Summary\n",
    "\n",
    "There are a few points that we should know after this session:\n",
    "- JavaScript is rarely used for building a model,\n",
    "- it can be easily used for prediction,\n",
    "- it has support for GPU,\n",
    "- JavaScript is not the first choice for machine learning,\n",
    "- there is still a lot of work to do in this area.\n",
    "\n"
   ]
  },
  {
   "cell_type": "markdown",
   "metadata": {},
   "source": [
    "## Where to go next ...\n",
    "\n",
    "Find me at O'Reilly live trainings:\n",
    "\n",
    "-[Sentiment analysis for chatbots in Python](https://www.safaribooksonline.com/live-training/courses/sentiment-analysis-for-chatbots-in-python/0636920185413/)\n",
    "\n",
    "-[Building intelligent bots in Python](https://www.safaribooksonline.com/live-training/courses/building-intelligent-bots-in-python/0636920185390)\n",
    "\n",
    "Drop me an email: **karol@codete.com**\n",
    "or call me: 0048608508372."
   ]
  }
 ],
 "metadata": {
  "kernelspec": {
   "display_name": "Javascript (Node.js)",
   "language": "javascript",
   "name": "javascript"
  },
  "language_info": {
   "file_extension": ".js",
   "mimetype": "application/javascript",
   "name": "javascript",
   "version": "8.10.0"
  }
 },
 "nbformat": 4,
 "nbformat_minor": 2
}
